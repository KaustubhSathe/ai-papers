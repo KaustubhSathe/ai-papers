{
 "cells": [
  {
   "cell_type": "code",
   "execution_count": 4,
   "metadata": {},
   "outputs": [
    {
     "name": "stdout",
     "output_type": "stream",
     "text": [
      "Validation Accuracy: 0.8268\n"
     ]
    }
   ],
   "source": [
    "import pandas as pd\n",
    "from sklearn.ensemble import RandomForestClassifier\n",
    "from sklearn.model_selection import train_test_split\n",
    "\n",
    "# Load data\n",
    "train_df = pd.read_csv('train.csv')\n",
    "test_df = pd.read_csv('test.csv')\n",
    "\n",
    "# Save test PassengerId for submission\n",
    "test_passenger_ids = test_df['PassengerId']\n",
    "\n",
    "# Compute imputation values from training data\n",
    "age_median = train_df['Age'].median()\n",
    "embarked_mode = train_df['Embarked'].mode()[0]\n",
    "fare_median = train_df['Fare'].median()\n",
    "\n",
    "def preprocess_data(df, age_median, embarked_mode, fare_median):\n",
    "    df = df.copy()\n",
    "    # Handle missing values\n",
    "    df['Age'] = df['Age'].fillna(age_median)\n",
    "    df['Embarked'] = df['Embarked'].fillna(embarked_mode)\n",
    "    df['Fare'] = df['Fare'].fillna(fare_median)\n",
    "    \n",
    "    # Convert categorical to numerical\n",
    "    df['Sex'] = df['Sex'].map({'male': 0, 'female': 1})\n",
    "    \n",
    "    # Feature engineering\n",
    "    df['FamilySize'] = df['SibSp'] + df['Parch'] + 1\n",
    "    df['IsAlone'] = (df['FamilySize'] == 1).astype(int)\n",
    "    \n",
    "    # One-hot encode Embarked\n",
    "    df = pd.get_dummies(df, columns=['Embarked'], prefix='Embarked')\n",
    "    \n",
    "    # Ensure all expected columns are present\n",
    "    expected_columns = [\n",
    "        'Pclass', 'Sex', 'Age', 'Fare', 'FamilySize', 'IsAlone',\n",
    "        'Embarked_C', 'Embarked_Q', 'Embarked_S'\n",
    "    ]\n",
    "    for col in expected_columns:\n",
    "        if col not in df.columns:\n",
    "            df[col] = 0\n",
    "    \n",
    "    # Drop unnecessary columns\n",
    "    df = df.drop(['PassengerId', 'Name', 'Ticket', 'Cabin', 'SibSp', 'Parch'], axis=1)\n",
    "    \n",
    "    # Reorder columns\n",
    "    df = df[expected_columns]\n",
    "    \n",
    "    return df\n",
    "\n",
    "# Preprocess data\n",
    "X_train = preprocess_data(train_df, age_median, embarked_mode, fare_median)\n",
    "y_train = train_df['Survived']\n",
    "X_test = preprocess_data(test_df, age_median, embarked_mode, fare_median)\n",
    "\n",
    "# Split training data for validation\n",
    "X_train_split, X_val, y_train_split, y_val = train_test_split(\n",
    "    X_train, y_train, test_size=0.2, random_state=42\n",
    ")\n",
    "\n",
    "# Initialize and train the model\n",
    "model = RandomForestClassifier(n_estimators=100, random_state=42)\n",
    "model.fit(X_train_split, y_train_split)\n",
    "\n",
    "# Validate\n",
    "val_accuracy = model.score(X_val, y_val)\n",
    "print(f\"Validation Accuracy: {val_accuracy:.4f}\")\n",
    "\n",
    "# Retrain on full data\n",
    "model.fit(X_train, y_train)\n",
    "\n",
    "\n",
    "# Predict and save\n",
    "test_preds = model.predict(X_test)\n",
    "submission = pd.DataFrame({\n",
    "    'PassengerId': test_passenger_ids,\n",
    "    'Survived': test_preds\n",
    "})\n",
    "submission.to_csv('submission.csv', index=False)"
   ]
  },
  {
   "cell_type": "code",
   "execution_count": null,
   "metadata": {},
   "outputs": [],
   "source": []
  }
 ],
 "metadata": {
  "kernelspec": {
   "display_name": "Python 3",
   "language": "python",
   "name": "python3"
  },
  "language_info": {
   "codemirror_mode": {
    "name": "ipython",
    "version": 3
   },
   "file_extension": ".py",
   "mimetype": "text/x-python",
   "name": "python",
   "nbconvert_exporter": "python",
   "pygments_lexer": "ipython3",
   "version": "3.11.5"
  }
 },
 "nbformat": 4,
 "nbformat_minor": 2
}
